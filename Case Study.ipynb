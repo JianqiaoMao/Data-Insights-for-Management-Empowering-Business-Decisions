{
 "cells": [
  {
   "cell_type": "markdown",
   "metadata": {},
   "source": [
    "# Case Study: UK used BMW car price analysis and prediction\n",
    "\n",
    "You are provided with a dataset containing information about used BMW cars, including their specifications and selling prices. The dataset contains information of price, transmission, mileage, fuel type, road tax, miles per gallon (mpg), and engine size. It is cool to have some insignts for the data by applying your learnt visualisation and modelling techniques, and see if we could determine what is the ideal price to sell your used BMW car (assuming you have one...) based on the known information. \n",
    "\n",
    "This notebook provides you a skeleton of analysis and modelling, but you should decide what information should be digged out and how the identified information could help you to setup a regression model to make an accuracy prediction for the selling price of your BMW car! At the end of this case study, you will be given another test set and you may find out how well your built model would perform. This is important, becuase that will determine if you could sell your car at a fair price!!"
   ]
  },
  {
   "cell_type": "markdown",
   "metadata": {},
   "source": [
    "## 0. Import libraries\n",
    "\n",
    "What Python libraries you will need? Import them for later usage."
   ]
  },
  {
   "cell_type": "code",
   "execution_count": null,
   "metadata": {},
   "outputs": [],
   "source": []
  },
  {
   "cell_type": "markdown",
   "metadata": {},
   "source": [
    "## 1. Load and check the dataset\n",
    "\n",
    "#### Hint - Try to answer the following questions:\n",
    "\n",
    "1. How to load the dataset using pandas?\n",
    "2. What columns should be features? What column should be predicting target?\n",
    "3. How can you have a basic understanding for the given dataset?"
   ]
  },
  {
   "cell_type": "code",
   "execution_count": null,
   "metadata": {},
   "outputs": [],
   "source": []
  },
  {
   "cell_type": "markdown",
   "metadata": {},
   "source": [
    "## 2. preprocess the dataset\n",
    "\n",
    "#### Hint - Try to answer the following questions:\n",
    "\n",
    "1. Are there outliers missing values? \n",
    "2. How will you identify them and clean the dataset?"
   ]
  },
  {
   "cell_type": "code",
   "execution_count": null,
   "metadata": {},
   "outputs": [],
   "source": []
  },
  {
   "cell_type": "markdown",
   "metadata": {},
   "source": [
    "## 3. Data Visualistaion\n",
    "\n",
    "#### Hint - Try to answer the following questions:\n",
    "\n",
    "1. What visualisation tools you want to use?\n",
    "2. How can these visualisation help you to understand the data?\n",
    "3. How can your findings inspire the later modelling?"
   ]
  },
  {
   "cell_type": "code",
   "execution_count": null,
   "metadata": {},
   "outputs": [],
   "source": []
  },
  {
   "cell_type": "markdown",
   "metadata": {},
   "source": [
    "## 4. Modelling\n",
    "\n",
    "#### Hint - Try to answer the following questions:\n",
    "\n",
    "1. Any variable encoding needed? (e.g., dummy variable)\n",
    "2. Which is the regression model you want to choose?\n",
    "3. How to tune the hyperparameters? See [here](https://scikit-learn.org/stable/modules/generated/sklearn.model_selection.GridSearchCV.html)\n",
    "4. How well does your model could perform?"
   ]
  },
  {
   "cell_type": "code",
   "execution_count": null,
   "metadata": {},
   "outputs": [],
   "source": []
  }
 ],
 "metadata": {
  "kernelspec": {
   "display_name": "base",
   "language": "python",
   "name": "python3"
  },
  "language_info": {
   "codemirror_mode": {
    "name": "ipython",
    "version": 3
   },
   "file_extension": ".py",
   "mimetype": "text/x-python",
   "name": "python",
   "nbconvert_exporter": "python",
   "pygments_lexer": "ipython3",
   "version": "3.9.12"
  }
 },
 "nbformat": 4,
 "nbformat_minor": 2
}
